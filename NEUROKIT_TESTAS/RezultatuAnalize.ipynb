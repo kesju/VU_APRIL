{
 "cells": [
  {
   "cell_type": "code",
   "execution_count": 3,
   "metadata": {},
   "outputs": [
    {
     "name": "stdout",
     "output_type": "stream",
     "text": [
      "\n",
      "Zive įrašas:  1625402.027\n",
      "peaks iš json failo: 765\n",
      "peaks iš neurokit2: 765\n",
      "Sutapo reikšmių: 170  nesutapo: 595\n"
     ]
    }
   ],
   "source": [
    "# Supaprastintas skriptas rpeaks sekų, gautų iš .json failo ir EKG įrašo, panaudojant NEUROKIT2, sulyginimui \n",
    "# Sulyginimas daromas dviem įrašams, kurie yra pridėti:\n",
    "\n",
    "import pandas as pd\n",
    "import numpy as np\n",
    "import json\n",
    "import neurokit2 as nk\n",
    "\n",
    "def zive_read_file_1ch(filename):\n",
    "    f = open(filename, \"r\")\n",
    "    a = np.fromfile(f, dtype=np.dtype('>i4'))\n",
    "    ADCmax=0x800000\n",
    "    Vref=2.5\n",
    "    b = (a - ADCmax/2)*2*Vref/ADCmax/3.5*1000\n",
    "    ecg_signal = b - np.mean(b)\n",
    "    return ecg_signal\n",
    "\n",
    "pd.set_option(\"display.max_rows\", 6000, \"display.max_columns\",200)\n",
    "pd.set_option('display.width', 1000)\n",
    "\n",
    "# file_names = ['1625402.027', '1625400.796', '1630757.924']\n",
    "# file_names = ['1630757.924']\n",
    "file_names = ['1625402.027']\n",
    "# file_names = ['1625400.796']\n",
    "\n",
    "for file_name in file_names:\n",
    "    \n",
    "    print(f\"\\nZive įrašas:  {file_name:>2}\")\n",
    "\n",
    "    # I-a dalis: nuskaitome rpeaks iš json failo\n",
    "    filename = file_name + '.json'\n",
    "    with open(filename,'r', encoding='UTF-8', errors = 'ignore') as f:\n",
    "        data = json.loads(f.read())\n",
    "    rpeaks_json = pd.DataFrame(data['rpeaks'])['sampleIndex']\n",
    "\n",
    "    print(f\"\\rpeaks iš json failo: {len(rpeaks_json)}\")\n",
    "    # print(rpeaks_json) \n",
    "    \n",
    "    # II-a dalis: suformuojame rpeaks su Neurokitu\n",
    "    # ecg_signal_df = pd.DataFrame(zive_read_file_1ch(str(file_name)), columns=['orig'])\n",
    "    # file_names = ['1625402.027']\n",
    "    ecg_signal = zive_read_file_1ch(file_name)\n",
    "    _, rpeaks = nk.ecg_peaks(ecg_signal, sampling_rate=200, correct_artifacts=False)\n",
    "    rpeaks_sgn = pd.DataFrame(rpeaks)['ECG_R_Peaks']\n",
    "\n",
    "    print(f\"\\rpeaks iš neurokit2: {len(rpeaks_sgn)}\")\n",
    "    # print(rpeaks_sgn)\n",
    "\n",
    "    # Sulyginame\n",
    "    \n",
    "    result = (rpeaks_json == rpeaks_sgn)\n",
    "    joint_df = pd.concat([rpeaks_json, rpeaks_sgn, result], axis=1)\n",
    "    \n",
    "    joint_df.rename(columns={'sampleIndex': 'json', 'ECG_R_Peaks': 'neurokit'}, inplace=True)\n",
    "    # print(joint_df)\n",
    "\n",
    "    uniq_values =result.value_counts()\n",
    "    # print(uniq_values)\n",
    "    print(f\"Sutapo reikšmių: {uniq_values[1]}  nesutapo: {uniq_values[0]}\")\n",
    "\n"
   ]
  }
 ],
 "metadata": {
  "interpreter": {
   "hash": "4fdd05f7b6e7f46fd1f1bbcbfdc9d8b4b1f98b078b306375c0cb77e6ad3f81a5"
  },
  "kernelspec": {
   "display_name": "Python 3.9.5 64-bit ('ecg': conda)",
   "name": "python3"
  },
  "language_info": {
   "codemirror_mode": {
    "name": "ipython",
    "version": 3
   },
   "file_extension": ".py",
   "mimetype": "text/x-python",
   "name": "python",
   "nbconvert_exporter": "python",
   "pygments_lexer": "ipython3",
   "version": "3.7.13"
  }
 },
 "nbformat": 4,
 "nbformat_minor": 4
}
